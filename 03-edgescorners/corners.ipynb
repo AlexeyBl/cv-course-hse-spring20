{
 "cells": [
  {
   "cell_type": "markdown",
   "metadata": {},
   "source": [
    "<a href=\"https://colab.research.google.com/github/rakhimovv/cv-course-hse-spring20/blob/master/03-edgescorners/corners.ipynb\" target=\"_parent\"><img src=\"https://colab.research.google.com/assets/colab-badge.svg\" alt=\"Open In Colab\"/></a>"
   ]
  },
  {
   "cell_type": "markdown",
   "metadata": {},
   "source": [
    "# Harris corner detection"
   ]
  },
  {
   "cell_type": "code",
   "execution_count": null,
   "metadata": {},
   "outputs": [],
   "source": [
    "#!pip install imageio\n",
    "#!pip install utils\n",
    "#!pip install conv\n",
    "#!pip install scikit-image"
   ]
  },
  {
   "cell_type": "code",
   "execution_count": null,
   "metadata": {},
   "outputs": [],
   "source": [
    "from imageio import imread, imsave\n",
    "from utils import *\n",
    "\n",
    "import matplotlib.pyplot as plt\n",
    "%matplotlib inline\n",
    "\n",
    "from skimage import io\n",
    "import numpy as np\n",
    "import conv"
   ]
  },
  {
   "cell_type": "code",
   "execution_count": null,
   "metadata": {},
   "outputs": [],
   "source": [
    "image = imread('./spine.png').astype(float)"
   ]
  },
  {
   "cell_type": "code",
   "execution_count": null,
   "metadata": {},
   "outputs": [],
   "source": [
    "def show(image):\n",
    "    plt.figure(figsize=(10, 10))\n",
    "    plt.imshow(image, cmap='gray')\n",
    "    plt.axis('off')"
   ]
  },
  {
   "cell_type": "code",
   "execution_count": null,
   "metadata": {},
   "outputs": [],
   "source": [
    "show(image)"
   ]
  },
  {
   "cell_type": "markdown",
   "metadata": {},
   "source": [
    "### Градиент"
   ]
  },
  {
   "cell_type": "code",
   "execution_count": null,
   "metadata": {},
   "outputs": [],
   "source": [
    "gx, gy = np.gradient(image)"
   ]
  },
  {
   "cell_type": "code",
   "execution_count": null,
   "metadata": {},
   "outputs": [],
   "source": [
    "gxx = gx ** 2\n",
    "gyy = gy ** 2\n",
    "gxy = gx * gy"
   ]
  },
  {
   "cell_type": "code",
   "execution_count": null,
   "metadata": {},
   "outputs": [],
   "source": [
    "io.imshow(gxx)"
   ]
  },
  {
   "cell_type": "markdown",
   "metadata": {},
   "source": [
    "### Матрица М"
   ]
  },
  {
   "cell_type": "code",
   "execution_count": null,
   "metadata": {},
   "outputs": [],
   "source": [
    "import scipy\n",
    "from scipy import stats\n",
    "\n",
    "def get_gaussian_kernel(size=17, nsig=3):\n",
    "    x = np.linspace(-nsig, nsig, size + 1)\n",
    "    kernel_1D = np.diff(stats.norm.cdf(x))\n",
    "    \n",
    "    kernel_2D = np.outer(kernel_1D, kernel_1D)\n",
    "    kernel_2D_norm = kernel_2D / kernel_2D.sum()\n",
    "    \n",
    "    return kernel_2D_norm"
   ]
  },
  {
   "cell_type": "code",
   "execution_count": null,
   "metadata": {},
   "outputs": [],
   "source": [
    "kernel = get_gaussian_kernel()"
   ]
  },
  {
   "cell_type": "code",
   "execution_count": null,
   "metadata": {},
   "outputs": [],
   "source": [
    "from scipy.signal import convolve2d"
   ]
  },
  {
   "cell_type": "code",
   "execution_count": null,
   "metadata": {},
   "outputs": [],
   "source": [
    "mxx, myy, mxy = [convolve2d(x, kernel, mode='same') for x in [gxx, gyy, gxy]]"
   ]
  },
  {
   "cell_type": "markdown",
   "metadata": {},
   "source": [
    "### Theta (corner response function)"
   ]
  },
  {
   "cell_type": "code",
   "execution_count": null,
   "metadata": {},
   "outputs": [],
   "source": [
    "alpha = 0.05\n",
    "theta = (\n",
    "    mxx * myy - mxy ** 2 # det\n",
    "    - alpha *\n",
    "    (mxx + myy) ** 2 # trace\n",
    ")"
   ]
  },
  {
   "cell_type": "code",
   "execution_count": null,
   "metadata": {},
   "outputs": [],
   "source": [
    "show(theta)"
   ]
  },
  {
   "cell_type": "markdown",
   "metadata": {},
   "source": [
    "### Пороговое значение, поиск локальных максимумов"
   ]
  },
  {
   "cell_type": "code",
   "execution_count": null,
   "metadata": {},
   "outputs": [],
   "source": [
    "thresholded = theta > 5000"
   ]
  },
  {
   "cell_type": "code",
   "execution_count": null,
   "metadata": {},
   "outputs": [],
   "source": [
    "show(thresholded)"
   ]
  },
  {
   "cell_type": "code",
   "execution_count": null,
   "metadata": {},
   "outputs": [],
   "source": [
    "from skimage.measure import label"
   ]
  },
  {
   "cell_type": "code",
   "execution_count": null,
   "metadata": {},
   "outputs": [],
   "source": [
    "components = label(thresholded)"
   ]
  },
  {
   "cell_type": "code",
   "execution_count": null,
   "metadata": {},
   "outputs": [],
   "source": [
    "plt.imshow(components, cmap='jet')\n",
    "plt.axis('off');"
   ]
  },
  {
   "cell_type": "code",
   "execution_count": null,
   "metadata": {},
   "outputs": [],
   "source": [
    "labels = np.unique(components)\n",
    "labels = labels[1:] # drop the background"
   ]
  },
  {
   "cell_type": "code",
   "execution_count": null,
   "metadata": {},
   "outputs": [],
   "source": [
    "idx = np.argmax(theta * comp_mask)"
   ]
  },
  {
   "cell_type": "code",
   "execution_count": null,
   "metadata": {},
   "outputs": [],
   "source": [
    "indices = []\n",
    "\n",
    "for component in labels:\n",
    "    comp_mask = components == component\n",
    "    \n",
    "    idx = np.argmax(theta * comp_mask)\n",
    "    \n",
    "    # argmax returns a flat index, so make id 2D:\n",
    "    idx = np.unravel_index(idx, theta.shape)\n",
    "    indices.append(idx)\n",
    "    \n",
    "indices = np.array(indices)\n",
    "\n",
    "ys, xs = indices.T"
   ]
  },
  {
   "cell_type": "code",
   "execution_count": null,
   "metadata": {},
   "outputs": [],
   "source": [
    "show(theta)\n",
    "plt.scatter(xs, ys, c='r')"
   ]
  },
  {
   "cell_type": "code",
   "execution_count": null,
   "metadata": {},
   "outputs": [],
   "source": [
    "show(image)\n",
    "plt.scatter(xs, ys, c='r')"
   ]
  },
  {
   "cell_type": "markdown",
   "metadata": {},
   "source": [
    "# Собираем все вместе"
   ]
  },
  {
   "cell_type": "code",
   "execution_count": null,
   "metadata": {},
   "outputs": [],
   "source": [
    "def harris_theta(image, alpha=0.05, kernel_size=17):\n",
    "    gx, gy = np.gradient(image)\n",
    "    \n",
    "    # outer product elements\n",
    "    gxx = gx ** 2\n",
    "    gyy = gy ** 2\n",
    "    gxy = gx * gy\n",
    "    \n",
    "    kernel = get_gaussian_kernel(kernel_size)\n",
    "    \n",
    "    # matrix M components\n",
    "    mxx, myy, mxy = [convolve2d(x, kernel, mode='same') for x in [gxx, gyy, gxy]]\n",
    "    \n",
    "    theta = (\n",
    "        mxx * myy - mxy ** 2 # det\n",
    "        - alpha *\n",
    "        (mxx + myy) ** 2 # trace\n",
    "    )\n",
    "    \n",
    "    return theta\n",
    "\n",
    "\n",
    "def get_corners_indices(theta, threshold):\n",
    "    components = label(theta > threshold)\n",
    "    labels = np.unique(components)\n",
    "    labels = labels[1:] # drop the background\n",
    "    \n",
    "    indices = []\n",
    "    for component in labels:\n",
    "        comp_mask = components == component\n",
    "\n",
    "        idx = np.argmax(theta * comp_mask)\n",
    "\n",
    "        # argmax returns a flat index, so make id 2D:\n",
    "        idx = np.unravel_index(idx, theta.shape)\n",
    "        indices.append(idx)\n",
    "\n",
    "    indices = np.array(indices)\n",
    "\n",
    "    ys, xs = indices.T\n",
    "    return ys, xs"
   ]
  },
  {
   "cell_type": "markdown",
   "metadata": {},
   "source": [
    "# Проверяем на инвариантность"
   ]
  },
  {
   "cell_type": "code",
   "execution_count": null,
   "metadata": {},
   "outputs": [],
   "source": [
    "translated = image[30:, 50:] # simplest translation"
   ]
  },
  {
   "cell_type": "code",
   "execution_count": null,
   "metadata": {},
   "outputs": [],
   "source": [
    "theta = harris_theta(translated)\n",
    "th = 2000\n",
    "ys, xs = get_corners_indices(theta, th)\n",
    "show(translated)\n",
    "plt.scatter(xs, ys, c='r')"
   ]
  },
  {
   "cell_type": "markdown",
   "metadata": {},
   "source": [
    "## Поворот"
   ]
  },
  {
   "cell_type": "code",
   "execution_count": null,
   "metadata": {},
   "outputs": [],
   "source": [
    "from skimage.transform import rotate"
   ]
  },
  {
   "cell_type": "code",
   "execution_count": null,
   "metadata": {},
   "outputs": [],
   "source": [
    "theta = harris_theta(image)\n",
    "th = 2000\n",
    "ys, xs = get_corners_indices(theta, th)\n",
    "show(image)\n",
    "plt.scatter(xs, ys, c='r')"
   ]
  },
  {
   "cell_type": "code",
   "execution_count": null,
   "metadata": {},
   "outputs": [],
   "source": [
    "rotated = rotate(image, 25)"
   ]
  },
  {
   "cell_type": "code",
   "execution_count": null,
   "metadata": {},
   "outputs": [],
   "source": [
    "theta = harris_theta(rotated)\n",
    "th = 2000\n",
    "ys, xs = get_corners_indices(theta, th)\n",
    "show(rotated)\n",
    "plt.scatter(xs, ys, c='r')"
   ]
  },
  {
   "cell_type": "markdown",
   "metadata": {},
   "source": [
    "Соответствие вполне сносное, хотя нектороые точки пропали. Почему так? Разве детектор Харриса не инвариантен к поворотам?"
   ]
  },
  {
   "cell_type": "markdown",
   "metadata": {},
   "source": [
    "## Масштабирование"
   ]
  },
  {
   "cell_type": "code",
   "execution_count": null,
   "metadata": {},
   "outputs": [],
   "source": [
    "# the simplest scaling there is\n",
    "scaled = image[::3, ::3]"
   ]
  },
  {
   "cell_type": "code",
   "execution_count": null,
   "metadata": {},
   "outputs": [],
   "source": [
    "image.shape"
   ]
  },
  {
   "cell_type": "code",
   "execution_count": null,
   "metadata": {},
   "outputs": [],
   "source": [
    "theta = harris_theta(scaled)\n",
    "th = 2000\n",
    "ys, xs = get_corners_indices(theta, th)\n",
    "show(scaled)\n",
    "plt.scatter(xs, ys, c='r')"
   ]
  },
  {
   "cell_type": "code",
   "execution_count": null,
   "metadata": {},
   "outputs": [],
   "source": [
    "show(harris_theta(image))"
   ]
  },
  {
   "cell_type": "code",
   "execution_count": null,
   "metadata": {},
   "outputs": [],
   "source": [
    "show(harris_theta(scaled))"
   ]
  },
  {
   "cell_type": "markdown",
   "metadata": {},
   "source": [
    "Некоторые границы просто исчезли, поскольку фильтр Гаусса слишком большой для подобного масштаба."
   ]
  },
  {
   "cell_type": "code",
   "execution_count": null,
   "metadata": {},
   "outputs": [],
   "source": []
  }
 ],
 "metadata": {
  "kernelspec": {
   "display_name": "Python 3",
   "language": "python",
   "name": "python3"
  },
  "language_info": {
   "codemirror_mode": {
    "name": "ipython",
    "version": 3
   },
   "file_extension": ".py",
   "mimetype": "text/x-python",
   "name": "python",
   "nbconvert_exporter": "python",
   "pygments_lexer": "ipython3",
   "version": "3.7.3"
  }
 },
 "nbformat": 4,
 "nbformat_minor": 2
}
